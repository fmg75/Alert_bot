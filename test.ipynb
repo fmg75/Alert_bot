{
 "cells": [
  {
   "cell_type": "code",
   "execution_count": 15,
   "metadata": {},
   "outputs": [
    {
     "name": "stdout",
     "output_type": "stream",
     "text": [
      "0.0009089\n"
     ]
    }
   ],
   "source": [
    "import requests\n",
    "from lxml import html\n",
    "\n",
    "# Definir valores fijos (token y chat_id)\n",
    "url = 'https://www.coingecko.com/es/monedas/universal-basic-income'\n",
    "\n",
    "\n",
    "# Realizar la solicitud HTTP, simula un navegador....\n",
    "headers = {\n",
    "        'User-Agent': 'Mozilla/5.0 (Windows NT 10.0; Win64; x64) AppleWebKit/537.36 (KHTML, like Gecko) Chrome/58.0.3029.110 Safari/537.3'\n",
    "    }\n",
    "response = requests.get(url, headers=headers)\n",
    "\n",
    "tree = html.fromstring(response.content)\n",
    "\n",
    "# Utilizar XPath para encontrar el elemento span específico \n",
    "xpath = '/html/body/div[3]/main/div[1]/div[1]/div/div[1]/div[2]/div/div[1]/span[1]/span'\n",
    "valor_element = tree.xpath(xpath)\n",
    "\n",
    "# Obtener el texto del elemento y realizar las modificaciones necesarias\n",
    "valor = valor_element[0].text_content().strip()\n",
    "\n",
    "# Eliminar el signo \"$\" y reemplazar la coma por un punto\n",
    "valor = valor.replace('$', '').replace(',', '.')\n",
    "\n",
    "# Imprimir el valor resultante\n",
    "print(valor)"
   ]
  }
 ],
 "metadata": {
  "kernelspec": {
   "display_name": "Python 3",
   "language": "python",
   "name": "python3"
  },
  "language_info": {
   "codemirror_mode": {
    "name": "ipython",
    "version": 3
   },
   "file_extension": ".py",
   "mimetype": "text/x-python",
   "name": "python",
   "nbconvert_exporter": "python",
   "pygments_lexer": "ipython3",
   "version": "3.10.12"
  }
 },
 "nbformat": 4,
 "nbformat_minor": 2
}
