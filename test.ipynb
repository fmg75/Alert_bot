{
 "cells": [
  {
   "cell_type": "code",
   "execution_count": 35,
   "metadata": {},
   "outputs": [
    {
     "name": "stdout",
     "output_type": "stream",
     "text": [
      "0.00091966\n"
     ]
    }
   ],
   "source": [
    "import requests\n",
    "from lxml import html\n",
    "\n",
    "# Definir valores fijos (token y chat_id)\n",
    "url = 'https://etherscan.io/dex/uniswapv2/0xe632ded5195e945a31f56d674aab0c0c9e7e812c'\n",
    "telegram_token = '6529284879:AAGnwzxSS2DauwYdsEEyMvI__ZelSbfchTg'\n",
    "chat_id = '1560847300'\n",
    "\n",
    "alerta_enviada = False\n",
    "\n",
    "\n",
    "# Realizar la solicitud HTTP, simula un navegador....\n",
    "headers = {\n",
    "        'User-Agent': 'Mozilla/5.0 (Windows NT 10.0; Win64; x64) AppleWebKit/537.36 (KHTML, like Gecko) Chrome/58.0.3029.110 Safari/537.3'\n",
    "    }\n",
    "response = requests.get(url, headers=headers)\n",
    "\n",
    "tree = html.fromstring(response.content)\n",
    "\n",
    "# Utilizar XPath para encontrar el elemento span específico \n",
    "xpath = '/html/body/main/section[2]/div[2]/div[1]/div/div[1]/div/div[1]/span'\n",
    "valor_element = tree.xpath(xpath)\n",
    "\n",
    "# Obtener el texto del elemento y realizar las modificaciones necesarias\n",
    "valor = valor_element[0].text_content().strip()\n",
    "\n",
    "# Eliminar el signo \"$\" y reemplazar la coma por un punto\n",
    "valor = valor.replace('$', '')\n",
    "\n",
    "# Imprimir el valor resultante\n",
    "print(valor)"
   ]
  },
  {
   "cell_type": "code",
   "execution_count": 27,
   "metadata": {},
   "outputs": [
    {
     "name": "stdout",
     "output_type": "stream",
     "text": [
      "[]\n"
     ]
    }
   ],
   "source": [
    "import requests\n",
    "from bs4 import BeautifulSoup\n",
    "\n",
    "# Definir valores fijos (token y chat_id)\n",
    "url = 'https://app.uniswap.org/tokens/ethereum/0xdd1ad9a21ce722c151a836373babe42c868ce9a4'\n",
    "\n",
    "# Realizar la solicitud HTTP\n",
    "response = requests.get(url)\n",
    "\n",
    "# Parsear el contenido HTML con Beautiful Soup\n",
    "soup = BeautifulSoup(response.content, 'html.parser')\n",
    "\n",
    "# Encontrar el elemento con la clase específica\n",
    "elemento = soup.select('div.text__TextWrapper-sc-ff9b9e4c-0.efjYeS.css-15popx1')\n",
    "\n",
    "# Obtener el texto del elemento y realizar las modificaciones necesarias\n",
    "#valor = elemento.text.strip().replace('$', '').replace(',', '.')\n",
    "\n",
    "# Imprimir el valor resultante\n",
    "print(elemento)\n"
   ]
  },
  {
   "cell_type": "code",
   "execution_count": 28,
   "metadata": {},
   "outputs": [
    {
     "data": {
      "text/plain": [
       "<!DOCTYPE html>\n",
       "<html translate=\"no\"><head><meta charset=\"utf-8\"/><title>Uniswap Interface</title><link href=\"/favicon.png\" rel=\"shortcut icon\" type=\"image/png\"/><link href=\"/images/192x192_App_Icon.png\" rel=\"apple-touch-icon\" sizes=\"192x192\"/><link href=\"/images/512x512_App_Icon.png\" rel=\"apple-touch-icon\" sizes=\"512x512\"/><meta content=\"width=device-width,initial-scale=1,maximum-scale=1,user-scalable=no\" name=\"viewport\"/><meta content=\"#fff\" name=\"theme-color\"/><meta content=\"script-src 'self' 'unsafe-inline'\" http-equiv=\"Content-Security-Policy\"/><meta content=\"app-id=6443944476\" name=\"apple-itunes-app\"/><link href=\"/manifest.json\" rel=\"manifest\"/><link crossorigin=\"\" href=\"https://api.uniswap.org/\" rel=\"preconnect\"/><link crossorigin=\"\" href=\"https://mainnet.infura.io/\" rel=\"preconnect\"/><link as=\"font\" crossorigin=\"\" href=\"/fonts/Basel-Book.woff\" rel=\"preload\" type=\"font/woff\"/><link as=\"font\" crossorigin=\"\" href=\"/fonts/Basel-Book.woff2\" rel=\"preload\" type=\"font/woff2\"/><link as=\"font\" crossorigin=\"\" href=\"/fonts/Basel-Medium.woff\" rel=\"preload\" type=\"font/woff\"/><link as=\"font\" crossorigin=\"\" href=\"/fonts/Basel-Medium.woff2\" rel=\"preload\" type=\"font/woff2\"/><style>*{font-family:Basel,sans-serif;box-sizing:border-box}@font-face{font-family:Basel;font-weight:535;font-style:normal;font-display:block;src:url('/fonts/Basel-Medium.woff2') format('woff2'),url('/fonts/Basel-Medium.woff') format('woff')}@font-face{font-family:Basel;font-weight:485;font-style:normal;font-display:block;src:url('/fonts/Basel-Book.woff') format('woff2'),url('/fonts/Basel-Book.woff') format('woff')}@supports (font-variation-settings:normal){*{font-family:Basel,sans-serif}}body,html{margin:0;padding:0}button{user-select:none}html{font-size:16px;font-weight:485;font-variant:none;font-smooth:always;text-rendering:optimizeLegibility!important;-webkit-font-smoothing:antialiased!important;-moz-osx-font-smoothing:grayscale;-webkit-tap-highlight-color:transparent}#background-radial-gradient{position:fixed;top:0;left:0;right:0;pointer-events:none;width:200vw;height:200vh;transform:translate(-50vw,-100vh);z-index:-1}#root,body,html{min-height:100%}@media (prefers-color-scheme:dark){html{background:linear-gradient(#131313 0,#131313 100%)}}@media (prefers-color-scheme:light){html{background:radial-gradient(100% 100% at 50% 0,rgba(255,184,226,0) 0,rgba(255,255,255,0) 100%),#fff}}</style><script defer=\"defer\" src=\"/static/js/3753.1b1b77fe.js\"></script><script defer=\"defer\" src=\"/static/js/main.2ab1d058.js\"></script><link href=\"/static/css/3753.cf25ced5.css\" rel=\"stylesheet\"/></head><body><noscript>You need to enable JavaScript to run this app.</noscript><div id=\"root\"><div> </div></div><div id=\"background-radial-gradient\"></div></body></html>"
      ]
     },
     "execution_count": 28,
     "metadata": {},
     "output_type": "execute_result"
    }
   ],
   "source": [
    "soup"
   ]
  },
  {
   "cell_type": "code",
   "execution_count": 29,
   "metadata": {},
   "outputs": [
    {
     "ename": "RuntimeError",
     "evalue": "Cannot use HTMLSession within an existing event loop. Use AsyncHTMLSession instead.",
     "output_type": "error",
     "traceback": [
      "\u001b[0;31m---------------------------------------------------------------------------\u001b[0m",
      "\u001b[0;31mRuntimeError\u001b[0m                              Traceback (most recent call last)",
      "Cell \u001b[0;32mIn[29], line 12\u001b[0m\n\u001b[1;32m      9\u001b[0m response \u001b[38;5;241m=\u001b[39m session\u001b[38;5;241m.\u001b[39mget(url)\n\u001b[1;32m     11\u001b[0m \u001b[38;5;66;03m# Esperar a que la página cargue completamente\u001b[39;00m\n\u001b[0;32m---> 12\u001b[0m \u001b[43mresponse\u001b[49m\u001b[38;5;241;43m.\u001b[39;49m\u001b[43mhtml\u001b[49m\u001b[38;5;241;43m.\u001b[39;49m\u001b[43mrender\u001b[49m\u001b[43m(\u001b[49m\u001b[43mtimeout\u001b[49m\u001b[38;5;241;43m=\u001b[39;49m\u001b[38;5;241;43m20\u001b[39;49m\u001b[43m)\u001b[49m\n\u001b[1;32m     14\u001b[0m \u001b[38;5;66;03m# Encontrar el elemento con la clase específica\u001b[39;00m\n\u001b[1;32m     15\u001b[0m elemento \u001b[38;5;241m=\u001b[39m response\u001b[38;5;241m.\u001b[39mhtml\u001b[38;5;241m.\u001b[39mfind(\u001b[38;5;124m'\u001b[39m\u001b[38;5;124mdiv.text__TextWrapper-sc-ff9b9e4c-0.efjYeS.css-15popx1\u001b[39m\u001b[38;5;124m'\u001b[39m, first\u001b[38;5;241m=\u001b[39m\u001b[38;5;28;01mTrue\u001b[39;00m)\n",
      "File \u001b[0;32m~/.local/lib/python3.10/site-packages/requests_html.py:586\u001b[0m, in \u001b[0;36mHTML.render\u001b[0;34m(self, retries, script, wait, scrolldown, sleep, reload, timeout, keep_page)\u001b[0m\n\u001b[1;32m    541\u001b[0m \u001b[38;5;28;01mdef\u001b[39;00m \u001b[38;5;21mrender\u001b[39m(\u001b[38;5;28mself\u001b[39m, retries: \u001b[38;5;28mint\u001b[39m \u001b[38;5;241m=\u001b[39m \u001b[38;5;241m8\u001b[39m, script: \u001b[38;5;28mstr\u001b[39m \u001b[38;5;241m=\u001b[39m \u001b[38;5;28;01mNone\u001b[39;00m, wait: \u001b[38;5;28mfloat\u001b[39m \u001b[38;5;241m=\u001b[39m \u001b[38;5;241m0.2\u001b[39m, scrolldown\u001b[38;5;241m=\u001b[39m\u001b[38;5;28;01mFalse\u001b[39;00m, sleep: \u001b[38;5;28mint\u001b[39m \u001b[38;5;241m=\u001b[39m \u001b[38;5;241m0\u001b[39m, reload: \u001b[38;5;28mbool\u001b[39m \u001b[38;5;241m=\u001b[39m \u001b[38;5;28;01mTrue\u001b[39;00m, timeout: Union[\u001b[38;5;28mfloat\u001b[39m, \u001b[38;5;28mint\u001b[39m] \u001b[38;5;241m=\u001b[39m \u001b[38;5;241m8.0\u001b[39m, keep_page: \u001b[38;5;28mbool\u001b[39m \u001b[38;5;241m=\u001b[39m \u001b[38;5;28;01mFalse\u001b[39;00m):\n\u001b[1;32m    542\u001b[0m \u001b[38;5;250m    \u001b[39m\u001b[38;5;124;03m\"\"\"Reloads the response in Chromium, and replaces HTML content\u001b[39;00m\n\u001b[1;32m    543\u001b[0m \u001b[38;5;124;03m    with an updated version, with JavaScript executed.\u001b[39;00m\n\u001b[1;32m    544\u001b[0m \n\u001b[0;32m   (...)\u001b[0m\n\u001b[1;32m    583\u001b[0m \u001b[38;5;124;03m    Chromium into your home directory (``~/.pyppeteer``).\u001b[39;00m\n\u001b[1;32m    584\u001b[0m \u001b[38;5;124;03m    \"\"\"\u001b[39;00m\n\u001b[0;32m--> 586\u001b[0m     \u001b[38;5;28mself\u001b[39m\u001b[38;5;241m.\u001b[39mbrowser \u001b[38;5;241m=\u001b[39m \u001b[38;5;28;43mself\u001b[39;49m\u001b[38;5;241;43m.\u001b[39;49m\u001b[43msession\u001b[49m\u001b[38;5;241;43m.\u001b[39;49m\u001b[43mbrowser\u001b[49m  \u001b[38;5;66;03m# Automatically create a event loop and browser\u001b[39;00m\n\u001b[1;32m    587\u001b[0m     content \u001b[38;5;241m=\u001b[39m \u001b[38;5;28;01mNone\u001b[39;00m\n\u001b[1;32m    589\u001b[0m     \u001b[38;5;66;03m# Automatically set Reload to False, if example URL is being used.\u001b[39;00m\n",
      "File \u001b[0;32m~/.local/lib/python3.10/site-packages/requests_html.py:729\u001b[0m, in \u001b[0;36mHTMLSession.browser\u001b[0;34m(self)\u001b[0m\n\u001b[1;32m    727\u001b[0m     \u001b[38;5;28mself\u001b[39m\u001b[38;5;241m.\u001b[39mloop \u001b[38;5;241m=\u001b[39m asyncio\u001b[38;5;241m.\u001b[39mget_event_loop()\n\u001b[1;32m    728\u001b[0m     \u001b[38;5;28;01mif\u001b[39;00m \u001b[38;5;28mself\u001b[39m\u001b[38;5;241m.\u001b[39mloop\u001b[38;5;241m.\u001b[39mis_running():\n\u001b[0;32m--> 729\u001b[0m         \u001b[38;5;28;01mraise\u001b[39;00m \u001b[38;5;167;01mRuntimeError\u001b[39;00m(\u001b[38;5;124m\"\u001b[39m\u001b[38;5;124mCannot use HTMLSession within an existing event loop. Use AsyncHTMLSession instead.\u001b[39m\u001b[38;5;124m\"\u001b[39m)\n\u001b[1;32m    730\u001b[0m     \u001b[38;5;28mself\u001b[39m\u001b[38;5;241m.\u001b[39m_browser \u001b[38;5;241m=\u001b[39m \u001b[38;5;28mself\u001b[39m\u001b[38;5;241m.\u001b[39mloop\u001b[38;5;241m.\u001b[39mrun_until_complete(\u001b[38;5;28msuper\u001b[39m()\u001b[38;5;241m.\u001b[39mbrowser)\n\u001b[1;32m    731\u001b[0m \u001b[38;5;28;01mreturn\u001b[39;00m \u001b[38;5;28mself\u001b[39m\u001b[38;5;241m.\u001b[39m_browser\n",
      "\u001b[0;31mRuntimeError\u001b[0m: Cannot use HTMLSession within an existing event loop. Use AsyncHTMLSession instead."
     ]
    }
   ],
   "source": [
    "from requests_html import HTMLSession\n",
    "\n",
    "url = 'https://app.uniswap.org/tokens/ethereum/0xdd1ad9a21ce722c151a836373babe42c868ce9a4'\n",
    "\n",
    "# Crear una sesión HTML\n",
    "session = HTMLSession()\n",
    "\n",
    "# Realizar la solicitud HTTP\n",
    "response = session.get(url)\n",
    "\n",
    "# Esperar a que la página cargue completamente\n",
    "response.html.render(timeout=20)\n",
    "\n",
    "# Encontrar el elemento con la clase específica\n",
    "elemento = response.html.find('div.text__TextWrapper-sc-ff9b9e4c-0.efjYeS.css-15popx1', first=True)\n",
    "\n",
    "# Obtener el texto del elemento y realizar las modificaciones necesarias\n",
    "if elemento:\n",
    "    valor = elemento.text.strip().replace('$', '').replace(',', '.')\n",
    "    print(valor)\n",
    "else:\n",
    "    print(\"Elemento no encontrado.\")\n",
    "\n",
    "# Cerrar la sesión\n",
    "session.close()\n"
   ]
  }
 ],
 "metadata": {
  "kernelspec": {
   "display_name": "Python 3",
   "language": "python",
   "name": "python3"
  },
  "language_info": {
   "codemirror_mode": {
    "name": "ipython",
    "version": 3
   },
   "file_extension": ".py",
   "mimetype": "text/x-python",
   "name": "python",
   "nbconvert_exporter": "python",
   "pygments_lexer": "ipython3",
   "version": "3.10.12"
  }
 },
 "nbformat": 4,
 "nbformat_minor": 2
}
