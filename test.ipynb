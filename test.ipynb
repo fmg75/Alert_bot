{
 "cells": [
  {
   "cell_type": "code",
   "execution_count": 3,
   "metadata": {},
   "outputs": [
    {
     "name": "stdout",
     "output_type": "stream",
     "text": [
      "0.000555\n",
      "17:52:12\n"
     ]
    }
   ],
   "source": [
    "import requests\n",
    "from datetime import datetime, timedelta\n",
    "\n",
    "url = \"https://www.coingecko.com/price_charts/15269/usd/24_hours.json\"\n",
    "\n",
    "# Agregar encabezados simulando un navegador\n",
    "headers = {\n",
    "    'User-Agent': 'Mozilla/5.0 (Windows NT 10.0; Win64; x64) AppleWebKit/537.36 (KHTML, like Gecko) Chrome/58.0.3029.110 Safari/537.3'}\n",
    "\n",
    "# Realizar la solicitud HTTP con encabezados personalizados\n",
    "response = requests.get(url, headers=headers)\n",
    "\n",
    "# Verificar si la solicitud fue exitosa (código de estado 200)\n",
    "if response.status_code == 200:\n",
    "    # Obtener el contenido JSON\n",
    "    data = response.json()\n",
    "\n",
    "    # Extrae hora\n",
    "    timestamp_milliseconds = data[\"stats\"][-1][0]\n",
    "    timestamp_seconds = timestamp_milliseconds / 1000\n",
    "    datetime_object_utc = datetime.utcfromtimestamp(timestamp_seconds)\n",
    "    # Ajustar a la zona horaria restando 2 horas\n",
    "    datetime_object_local = datetime_object_utc - timedelta(hours=3)\n",
    "    \n",
    "    # Formatear la fecha y hora como hh:mm:ss\n",
    "    formatted_time = datetime_object_local.strftime(\"%H:%M:%S\")\n",
    "    rounded_seconds = round(datetime_object_local.second)\n",
    "\n",
    "\n",
    "    last_element = data[\"stats\"][-1][-1]\n",
    "\n",
    "    \n",
    "    print(round(last_element,6))\n",
    "    print( formatted_time[:-2] + f\"{rounded_seconds:02}\")\n",
    "else:\n",
    "    print(\"Error al obtener los datos. Código de estado:\", response.status_code)\n"
   ]
  },
  {
   "cell_type": "code",
   "execution_count": null,
   "metadata": {},
   "outputs": [],
   "source": []
  },
  {
   "cell_type": "code",
   "execution_count": 8,
   "metadata": {},
   "outputs": [
    {
     "name": "stdout",
     "output_type": "stream",
     "text": [
      "1560847300\n"
     ]
    }
   ],
   "source": [
    "import requests\n",
    "import config\n",
    "\n",
    "telegram_token = config.TOKEN\n",
    "response = requests.get(f'https://api.telegram.org/bot{telegram_token}/getUpdates')\n",
    "\n",
    "updates = response.json().get('result', [])\n",
    "\n",
    "for update in updates:\n",
    "    message = update.get('message', {})\n",
    "    text = message.get('text', '')\n",
    "\n",
    "    # Verificar si el mensaje contiene el comando /stat\n",
    "    if 'hola' in text:\n",
    "        # Obtener el chat_id del usuario que envió el mensaje\n",
    "        chat_id = message['chat']['id']\n",
    "        print(chat_id)"
   ]
  },
  {
   "cell_type": "code",
   "execution_count": 8,
   "metadata": {},
   "outputs": [
    {
     "data": {
      "text/plain": [
       "<bound method Update.de_json of <class 'telegram.update.Update'>>"
      ]
     },
     "execution_count": 8,
     "metadata": {},
     "output_type": "execute_result"
    }
   ],
   "source": [
    "from telegram import Bot, Update\n",
    "\n",
    "Up = Update(1211121)\n",
    "Up.de_json"
   ]
  },
  {
   "cell_type": "code",
   "execution_count": 9,
   "metadata": {},
   "outputs": [],
   "source": [
    "from telegram import Update\n",
    "from telegram.ext import  CallbackContext\n",
    "\n",
    "def start(update: Update, context: CallbackContext):\n",
    "    global chat_id\n",
    "    chat_id = update.message.chat_id\n",
    "    context.user_data['chat_id'] = chat_id\n",
    "    update.message.reply_text(f\"¡Hola! Tu chat_id es {chat_id}\")"
   ]
  },
  {
   "cell_type": "code",
   "execution_count": null,
   "metadata": {},
   "outputs": [],
   "source": [
    "a = start"
   ]
  },
  {
   "cell_type": "code",
   "execution_count": 20,
   "metadata": {},
   "outputs": [
    {
     "name": "stderr",
     "output_type": "stream",
     "text": [
      "Connection pool of Request object is smaller than optimal value (8)\n"
     ]
    },
    {
     "name": "stdout",
     "output_type": "stream",
     "text": [
      "None\n"
     ]
    }
   ],
   "source": [
    "from telegram import Bot, Update\n",
    "from telegram.ext import Updater, CallbackContext\n",
    "import config\n",
    "\n",
    "\n",
    "    \n",
    "token = config.TOKEN\n",
    "\n",
    "bot = Bot(token=token)\n",
    "updater = Updater(bot=bot)\n",
    "chat_id = None\n",
    "\n",
    "def start(update: Update, context: CallbackContext):\n",
    "    global chat_id\n",
    "    chat_id = update.message.chat_id\n",
    "    \n",
    "    context.user_data['chat_id'] = chat_id\n",
    "\n",
    "  \n",
    "updater.stop()\n",
    "bot.stop_poll\n",
    "#bot.stopPoll(chat_id)\n",
    "print(chat_id)\n",
    "\n",
    "\n"
   ]
  },
  {
   "cell_type": "code",
   "execution_count": 2,
   "metadata": {},
   "outputs": [
    {
     "name": "stdout",
     "output_type": "stream",
     "text": [
      "Error en la solicitud. Código de estado: 403\n"
     ]
    }
   ],
   "source": [
    "import requests\n",
    "\n",
    "def obtener_precio_ubi(url):\n",
    "    try:\n",
    "        headers = {\n",
    "    'User-Agent': 'Mozilla/5.0 (Windows NT 10.0; Win64; x64) AppleWebKit/537.36 (KHTML, like Gecko) Chrome/58.0.3029.110 Safari/537.3'}\n",
    "        response = requests.get(url, headers=headers)\n",
    "\n",
    "        # Verificar si la solicitud fue exitosa (código de estado 200)\n",
    "        if response.status_code == 200:\n",
    "            # Analizar la respuesta JSON\n",
    "            data = response.json()\n",
    "\n",
    "            # Obtener el valor del precio\n",
    "            precio_ubi = data[0]['price']\n",
    "\n",
    "            # Imprimir el resultado\n",
    "            print(f\"El precio de UBI es: {precio_ubi}\")\n",
    "            return precio_ubi\n",
    "        else:\n",
    "            # Imprimir un mensaje de error si la solicitud no fue exitosa\n",
    "            print(f\"Error en la solicitud. Código de estado: {response.status_code}\")\n",
    "            return None\n",
    "    except Exception as e:\n",
    "        # Imprimir un mensaje de error en caso de excepción\n",
    "        print(f\"Error: {e}\")\n",
    "        return None\n",
    "\n",
    "# URL proporcionada\n",
    "url = \"https://www.dextools.io/shared/data/pair?address=0xe632ded5195e945a31f56d674aab0c0c9e7e812c&chain=ether&audit=false&locks=true\"\n",
    "\n",
    "# Llamar a la función para obtener el precio de UBI\n",
    "obtener_precio_ubi(url)\n"
   ]
  }
 ],
 "metadata": {
  "kernelspec": {
   "display_name": "Python 3",
   "language": "python",
   "name": "python3"
  },
  "language_info": {
   "codemirror_mode": {
    "name": "ipython",
    "version": 3
   },
   "file_extension": ".py",
   "mimetype": "text/x-python",
   "name": "python",
   "nbconvert_exporter": "python",
   "pygments_lexer": "ipython3",
   "version": "3.10.12"
  }
 },
 "nbformat": 4,
 "nbformat_minor": 2
}
