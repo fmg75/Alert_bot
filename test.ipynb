{
 "cells": [
  {
   "cell_type": "code",
   "execution_count": 43,
   "metadata": {},
   "outputs": [
    {
     "data": {
      "text/plain": [
       "'$0.001101'"
      ]
     },
     "execution_count": 43,
     "metadata": {},
     "output_type": "execute_result"
    }
   ],
   "source": [
    "import requests\n",
    "from lxml import html\n",
    "\n",
    "# Definir valores fijos (token y chat_id)\n",
    "url = 'https://coinmarketcap.com/es/currencies/universal-basic-income/'\n",
    "telegram_token = '6529284879:AAGnwzxSS2DauwYdsEEyMvI__ZelSbfchTg'\n",
    "chat_id = '1560847300'\n",
    "\n",
    "alerta_enviada = False\n",
    "\n",
    "#st.title(\"Alerta UBI\")\n",
    "\n",
    "\n",
    "    # Realizar la solicitud HTTP, simula un navegador....\n",
    "headers = {\n",
    "        'User-Agent': 'Mozilla/5.0 (Windows NT 10.0; Win64; x64) AppleWebKit/537.36 (KHTML, like Gecko) Chrome/58.0.3029.110 Safari/537.3'\n",
    "    }\n",
    "#response = requests.get(url, headers=headers)\n",
    "response = requests.get(url)\n",
    "tree = html.fromstring(response.content)\n",
    "\n",
    "    # Utilizar XPath para encontrar el elemento span específico \n",
    "    #\n",
    "xpath = '/html/body/div[1]/div[2]/div/div[2]/div/div/div[2]/div[1]/div[2]/span'\n",
    "valor_element = tree.xpath(xpath)\n",
    "valor_element\n",
    "valor = valor_element[0].text_content().strip()\n",
    "valor"
   ]
  }
 ],
 "metadata": {
  "kernelspec": {
   "display_name": "Python 3",
   "language": "python",
   "name": "python3"
  },
  "language_info": {
   "codemirror_mode": {
    "name": "ipython",
    "version": 3
   },
   "file_extension": ".py",
   "mimetype": "text/x-python",
   "name": "python",
   "nbconvert_exporter": "python",
   "pygments_lexer": "ipython3",
   "version": "3.10.12"
  }
 },
 "nbformat": 4,
 "nbformat_minor": 2
}
