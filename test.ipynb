{
 "cells": [
  {
   "cell_type": "code",
   "execution_count": 7,
   "metadata": {},
   "outputs": [
    {
     "data": {
      "text/plain": [
       "0.000472638667"
      ]
     },
     "execution_count": 7,
     "metadata": {},
     "output_type": "execute_result"
    }
   ],
   "source": [
    "import streamlit as st\n",
    "import requests\n",
    "from lxml import html\n",
    "from telegram import Bot\n",
    "from telegram.constants import ParseMode\n",
    "import asyncio\n",
    "\n",
    "# Definir valores fijos (token y chat_id)\n",
    "url = 'https://www.coingecko.com/es/monedas/universal-basic-income'\n",
    "telegram_token = '6529284879:AAGnwzxSS2DauwYdsEEyMvI__ZelSbfchTg'\n",
    "chat_id = '1560847300'\n",
    "\n",
    "# Inicializar variables globales\n",
    "valor_objetivo = 0.0\n",
    "alerta_enviada = False\n",
    "\n",
    "async def scrape_valor(url):\n",
    "    # Realizar la solicitud HTTP, simula un navegador....\n",
    "    headers = {\n",
    "        'User-Agent': 'Mozilla/5.0 (Windows NT 10.0; Win64; x64) AppleWebKit/537.36 (KHTML, like Gecko) Chrome/58.0.3029.110 Safari/537.3'\n",
    "    }\n",
    "    response = requests.get(url, headers=headers)\n",
    "\n",
    "    tree = html.fromstring(response.content)\n",
    "\n",
    "    # Utilizar XPath para encontrar el elemento span específico\n",
    "    xpath = '/html/body/div[3]/main/div[1]/div[1]/div/div[1]/div[2]/div/div[1]/span[1]/span'\n",
    "    valor_element = tree.xpath(xpath)\n",
    "\n",
    "    # Extraer el contenido del elemento (sin verificar si se encontró o no)\n",
    "    valor = valor_element[0].text_content().strip()\n",
    "    return valor\n",
    "r = await scrape_valor(url)\n",
    "l = float(r.replace('$', '').replace(',', '.'))\n",
    "l"
   ]
  },
  {
   "cell_type": "code",
   "execution_count": 8,
   "metadata": {},
   "outputs": [
    {
     "data": {
      "text/plain": [
       "'$0,000472638667'"
      ]
     },
     "execution_count": 8,
     "metadata": {},
     "output_type": "execute_result"
    }
   ],
   "source": [
    "r"
   ]
  }
 ],
 "metadata": {
  "kernelspec": {
   "display_name": "Python 3",
   "language": "python",
   "name": "python3"
  },
  "language_info": {
   "codemirror_mode": {
    "name": "ipython",
    "version": 3
   },
   "file_extension": ".py",
   "mimetype": "text/x-python",
   "name": "python",
   "nbconvert_exporter": "python",
   "pygments_lexer": "ipython3",
   "version": "3.10.12"
  }
 },
 "nbformat": 4,
 "nbformat_minor": 2
}
